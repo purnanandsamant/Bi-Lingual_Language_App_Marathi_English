{
 "cells": [
  {
   "cell_type": "markdown",
   "id": "68a85899-8ed6-437d-8a0e-976cd8cb5a2f",
   "metadata": {},
   "source": [
    "# Bilingual Conversation app - Marathi_English Conversation"
   ]
  },
  {
   "cell_type": "markdown",
   "id": "24ad4ae9-239b-4621-abb0-1a4aa7b1f922",
   "metadata": {},
   "source": [
    "<span style=\"font-size: 30px; color: blue; font-style: italic; font-weight: bold;\">Import Libraries</span>"
   ]
  },
  {
   "cell_type": "code",
   "execution_count": null,
   "id": "d76e6b2a-ae45-48cd-a7b6-fb6d18ca1acb",
   "metadata": {},
   "outputs": [],
   "source": [
    "import streamlit as st\n",
    "from streamlit_mic_recorder import speech_to_text\n",
    "from deep_translator import GoogleTranslator\n",
    "from gtts import gTTS\n",
    "import io\n"
   ]
  },
  {
   "cell_type": "markdown",
   "id": "f73af9ad-22de-4113-b552-7753874b719c",
   "metadata": {},
   "source": [
    "<span style=\"font-size: 30px; color: blue; font-style: italic; font-weight: bold;\">Define Functions</span>"
   ]
  },
  {
   "cell_type": "code",
   "execution_count": null,
   "id": "b45cb1bb-811e-4ac6-be31-0efb168abbbd",
   "metadata": {},
   "outputs": [],
   "source": [
    "\n",
    "def translate_text(text, source_lang, target_lang):\n",
    "    try:\n",
    "        translator = GoogleTranslator(source=source_lang, target=target_lang)\n",
    "        return translator.translate(text)\n",
    "    except Exception as e:\n",
    "        return f\"Translation error: {str(e)}\"\n",
    "\n",
    "def text_to_speech(text, lang):\n",
    "    tts = gTTS(text=text, lang=lang)\n",
    "    fp = io.BytesIO()\n",
    "    tts.write_to_fp(fp)\n",
    "    fp.seek(0)\n",
    "    return fp.getvalue()\n"
   ]
  },
  {
   "cell_type": "markdown",
   "id": "c5ee73d2-0aee-4383-9f4c-11b2673918cf",
   "metadata": {},
   "source": [
    "<span style=\"font-size: 30px; color: blue; font-style: italic; font-weight: bold;\">Design Streamlit App</span>"
   ]
  },
  {
   "cell_type": "code",
   "execution_count": null,
   "id": "1c1546d0-77b4-4c8e-b835-71c8037fe110",
   "metadata": {},
   "outputs": [],
   "source": [
    "\n",
    "st.markdown(\"<h1 style='font-size: 24px;'>Marathi-English Voice Translator</h1>\", unsafe_allow_html=True)\n",
    "\n",
    "st.markdown(\"## Marathi to English\")\n",
    "marathi_speech = speech_to_text(language='mr', key='marathi_speech')\n",
    "if marathi_speech:\n",
    "    st.write(f\"Marathi: {marathi_speech}\")\n",
    "    english_translation = translate_text(marathi_speech, 'mr', 'en')\n",
    "    st.write(f\"English: {english_translation}\")\n",
    "    \n",
    "    english_audio = text_to_speech(english_translation, 'en')\n",
    "    st.audio(english_audio, format=\"audio/mp3\")\n",
    "\n",
    "st.markdown(\"---\")\n",
    "\n",
    "st.markdown(\"## English to Marathi\")\n",
    "english_speech = speech_to_text(language='en', key='english_speech')\n",
    "if english_speech:\n",
    "    st.write(f\"English: {english_speech}\")\n",
    "    marathi_translation = translate_text(english_speech, 'en', 'mr')\n",
    "    st.write(f\"Marathi: {marathi_translation}\")\n",
    "    \n",
    "    marathi_audio = text_to_speech(marathi_translation, 'mr')\n",
    "    st.audio(marathi_audio, format=\"audio/mp3\")"
   ]
  }
 ],
 "metadata": {
  "kernelspec": {
   "display_name": "Python 3 (ipykernel)",
   "language": "python",
   "name": "python3"
  },
  "language_info": {
   "codemirror_mode": {
    "name": "ipython",
    "version": 3
   },
   "file_extension": ".py",
   "mimetype": "text/x-python",
   "name": "python",
   "nbconvert_exporter": "python",
   "pygments_lexer": "ipython3",
   "version": "3.12.4"
  }
 },
 "nbformat": 4,
 "nbformat_minor": 5
}
